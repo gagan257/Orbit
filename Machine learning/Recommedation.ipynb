{
  "cells": [
    {
      "cell_type": "code",
      "execution_count": null,
      "metadata": {
        "colab": {
          "base_uri": "https://localhost:8080/"
        },
        "id": "rfy3klta4k56",
        "outputId": "2dcf0620-84a5-4e62-8aca-24de7d61b9e5"
      },
      "outputs": [
        {
          "ename": "",
          "evalue": "",
          "output_type": "error",
          "traceback": [
            "\u001b[1;31mRunning cells with 'c:\\Users\\Gaurav\\AppData\\Local\\Programs\\Python\\Python311\\python.exe' requires the ipykernel package.\n",
            "\u001b[1;31mRun the following command to install 'ipykernel' into the Python environment. \n",
            "\u001b[1;31mCommand: 'c:/Users/Gaurav/AppData/Local/Programs/Python/Python311/python.exe -m pip install ipykernel -U --user --force-reinstall'"
          ]
        }
      ],
      "source": [
        "import pandas as pd\n",
        "from sklearn.feature_extraction.text import TfidfVectorizer\n",
        "from sklearn.metrics.pairwise import linear_kernel\n",
        "users = pd.read_csv('users.csv')\n",
        "courses = pd.read_csv('courses.csv')\n",
        "tfidf_vectorizer = TfidfVectorizer(stop_words='english')\n",
        "\n",
        "\n",
        "tfidf_matrix = tfidf_vectorizer.fit_transform(courses['course_content'])\n",
        "\n",
        "\n",
        "cosine_sim = linear_kernel(tfidf_matrix, tfidf_matrix)\n",
        "\n",
        "\n",
        "def get_top_n_recommendations(user_id, top_n=2):\n",
        "    user_interests = users.loc[users['user_id'] == user_id, 'interests'].values[0]\n",
        "    course_indices = []\n",
        "\n",
        "\n",
        "    for index, row in courses.iterrows():\n",
        "        if any(interest in row['course_content'].lower() for interest in user_interests.split()):\n",
        "            course_indices.append(index)\n",
        "\n",
        "    course_scores = cosine_sim[course_indices].mean(axis=0)\n",
        "\n",
        "    top_course_indices = course_scores.argsort()[::-1][:top_n]\n",
        "\n",
        "    return courses.iloc[top_course_indices]\n",
        "\n",
        "\n",
        "user_id = 1\n",
        "top_recommendations = get_top_n_recommendations(user_id, top_n=2)\n",
        "print(f\"Top 2 Recommendations for User {user_id}:\\n{top_recommendations[['course_name', 'course_content']]}\")\n"
      ]
    }
  ],
  "metadata": {
    "colab": {
      "provenance": []
    },
    "kernelspec": {
      "display_name": "Python 3",
      "name": "python3"
    },
    "language_info": {
      "name": "python",
      "version": "3.11.2"
    }
  },
  "nbformat": 4,
  "nbformat_minor": 0
}
